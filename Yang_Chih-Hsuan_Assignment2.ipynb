{
 "cells": [
  {
   "cell_type": "markdown",
   "metadata": {},
   "source": [
    "# Github link:"
   ]
  },
  {
   "cell_type": "markdown",
   "metadata": {},
   "source": [
    "### 1) Load in the appropriate csv file as a pandas dataframe (batting.csv)"
   ]
  },
  {
   "cell_type": "code",
   "execution_count": 1,
   "metadata": {},
   "outputs": [],
   "source": [
    "import numpy as np\n",
    "import pandas as pd"
   ]
  },
  {
   "cell_type": "code",
   "execution_count": 2,
   "metadata": {},
   "outputs": [],
   "source": [
    "df = pd.read_csv('Batting.csv')"
   ]
  },
  {
   "cell_type": "code",
   "execution_count": 3,
   "metadata": {},
   "outputs": [],
   "source": [
    "# Fill in na with 0 for HBP, SH, and SF\n",
    "new_df = df.fillna({'HBP':0,'SH':0,'SF':0})\n",
    "\n",
    "# Calculation of OBP\n",
    "new_df['OBP'] = (new_df['H'] + new_df['BB'] + new_df['HBP'])/(new_df['AB'] + new_df['BB'] + new_df['HBP'] + new_df['SF'])\n",
    "\n",
    "# Calculation of PA\n",
    "new_df['PA'] = new_df['AB'] + new_df['BB'] + new_df['HBP'] + new_df['SH'] + new_df['SF']\n",
    "\n",
    "# Calculation of batting average\n",
    "new_df['BA'] = new_df['H']/new_df['AB']"
   ]
  },
  {
   "cell_type": "code",
   "execution_count": 4,
   "metadata": {},
   "outputs": [
    {
     "name": "stdout",
     "output_type": "stream",
     "text": [
      "83901\n",
      "(102816, 25)\n",
      "(18915, 25)\n"
     ]
    },
    {
     "name": "stderr",
     "output_type": "stream",
     "text": [
      "C:\\Users\\Jerry Yang\\Anaconda3\\lib\\site-packages\\ipykernel_launcher.py:10: SettingWithCopyWarning: \n",
      "A value is trying to be set on a copy of a slice from a DataFrame\n",
      "\n",
      "See the caveats in the documentation: http://pandas.pydata.org/pandas-docs/stable/indexing.html#indexing-view-versus-copy\n",
      "  # Remove the CWD from sys.path while we load stuff.\n"
     ]
    },
    {
     "data": {
      "text/plain": [
       "(18915, 3)"
      ]
     },
     "execution_count": 4,
     "metadata": {},
     "output_type": "execute_result"
    }
   ],
   "source": [
    "# Check how many duplicates in playerID, if don't specify columns, it checks the entire row.\n",
    "print(df.duplicated(subset=['playerID']).sum())\n",
    "\n",
    "print(df.shape)\n",
    "print(df.drop_duplicates(subset=['playerID']).shape)\n",
    "# 102,816 - 18,915 = 83,901\n",
    "\n",
    "# Create a DataFrame with unique playID and name\n",
    "name = df[['playerID','nameFirst','nameLast']]\n",
    "name.drop_duplicates(subset=['playerID'],inplace = True)\n",
    "name.shape"
   ]
  },
  {
   "cell_type": "markdown",
   "metadata": {},
   "source": [
    "### 2) Print out the dimensions and info about the dataframe you just created"
   ]
  },
  {
   "cell_type": "code",
   "execution_count": 5,
   "metadata": {},
   "outputs": [
    {
     "name": "stdout",
     "output_type": "stream",
     "text": [
      "<class 'pandas.core.frame.DataFrame'>\n",
      "RangeIndex: 102816 entries, 0 to 102815\n",
      "Data columns (total 25 columns):\n",
      "playerID     102816 non-null object\n",
      "nameFirst    102816 non-null object\n",
      "nameLast     102816 non-null object\n",
      "birthYear    102816 non-null int64\n",
      "yearID       102816 non-null int64\n",
      "stint        102816 non-null int64\n",
      "teamID       102816 non-null object\n",
      "lgID         102079 non-null object\n",
      "G            102816 non-null int64\n",
      "AB           102816 non-null int64\n",
      "R            102816 non-null int64\n",
      "H            102816 non-null int64\n",
      "2B           102816 non-null int64\n",
      "3B           102816 non-null int64\n",
      "HR           102816 non-null int64\n",
      "RBI          102392 non-null float64\n",
      "SB           101516 non-null float64\n",
      "CS           79360 non-null float64\n",
      "BB           102816 non-null int64\n",
      "SO           94978 non-null float64\n",
      "IBB          66251 non-null float64\n",
      "HBP          100006 non-null float64\n",
      "SH           96478 non-null float64\n",
      "SF           66782 non-null float64\n",
      "GIDP         76706 non-null float64\n",
      "dtypes: float64(9), int64(11), object(5)\n",
      "memory usage: 19.6+ MB\n",
      "None\n",
      "2\n",
      "(102816, 25)\n",
      "Index(['playerID', 'nameFirst', 'nameLast', 'birthYear', 'yearID', 'stint',\n",
      "       'teamID', 'lgID', 'G', 'AB', 'R', 'H', '2B', '3B', 'HR', 'RBI', 'SB',\n",
      "       'CS', 'BB', 'SO', 'IBB', 'HBP', 'SH', 'SF', 'GIDP'],\n",
      "      dtype='object')\n",
      "           birthYear         yearID          stint              G  \\\n",
      "count  102816.000000  102816.000000  102816.000000  102816.000000   \n",
      "mean     1932.991869    1964.262313       1.077838      51.343439   \n",
      "std        87.105524      38.856297       0.284366      47.121658   \n",
      "min         0.000000    1871.000000       1.000000       1.000000   \n",
      "25%      1905.000000    1934.000000       1.000000      13.000000   \n",
      "50%      1945.000000    1973.000000       1.000000      34.000000   \n",
      "75%      1969.000000    1998.000000       1.000000      80.000000   \n",
      "max      1996.000000    2016.000000       5.000000     165.000000   \n",
      "\n",
      "                  AB              R              H             2B  \\\n",
      "count  102816.000000  102816.000000  102816.000000  102816.000000   \n",
      "mean      141.905511      18.815544      37.139930       6.289167   \n",
      "std       184.654492      28.242983      52.603757       9.662468   \n",
      "min         0.000000       0.000000       0.000000       0.000000   \n",
      "25%         4.000000       0.000000       0.000000       0.000000   \n",
      "50%        49.000000       4.000000       9.000000       1.000000   \n",
      "75%       231.000000      27.000000      58.000000       9.000000   \n",
      "max       716.000000     192.000000     262.000000      67.000000   \n",
      "\n",
      "                  3B             HR            RBI             SB  \\\n",
      "count  102816.000000  102816.000000  102392.000000  101516.000000   \n",
      "mean        1.293252       2.813599      17.003975       2.976821   \n",
      "std         2.645770       6.304919      26.352011       7.717174   \n",
      "min         0.000000       0.000000       0.000000       0.000000   \n",
      "25%         0.000000       0.000000       0.000000       0.000000   \n",
      "50%         0.000000       0.000000       3.000000       0.000000   \n",
      "75%         1.000000       2.000000      24.000000       2.000000   \n",
      "max        36.000000      73.000000     191.000000     138.000000   \n",
      "\n",
      "                 CS             BB            SO           IBB            HBP  \\\n",
      "count  79360.000000  102816.000000  94978.000000  66251.000000  100006.000000   \n",
      "mean       1.226008      13.067207     20.529712      1.105870       1.056057   \n",
      "std        2.747377      20.746460     28.328542      2.780187       2.276251   \n",
      "min        0.000000       0.000000      0.000000      0.000000       0.000000   \n",
      "25%        0.000000       0.000000      1.000000      0.000000       0.000000   \n",
      "50%        0.000000       3.000000      9.000000      0.000000       0.000000   \n",
      "75%        1.000000      18.000000     29.000000      1.000000       1.000000   \n",
      "max       42.000000     232.000000    223.000000    120.000000      51.000000   \n",
      "\n",
      "                 SH            SF          GIDP  \n",
      "count  96478.000000  66782.000000  76706.000000  \n",
      "mean       2.299540      1.054101      2.981018  \n",
      "std        4.241095      1.961732      4.735153  \n",
      "min        0.000000      0.000000      0.000000  \n",
      "25%        0.000000      0.000000      0.000000  \n",
      "50%        0.000000      0.000000      0.000000  \n",
      "75%        3.000000      1.000000      4.000000  \n",
      "max       67.000000     19.000000     36.000000  \n"
     ]
    }
   ],
   "source": [
    "print(df.info())\n",
    "print(df.ndim)\n",
    "print(df.shape)\n",
    "print(df.columns)\n",
    "print(df.describe())"
   ]
  },
  {
   "cell_type": "markdown",
   "metadata": {},
   "source": [
    "### 3)\tHow many players have hit 40 or more HRs in one single season? (Number only)"
   ]
  },
  {
   "cell_type": "code",
   "execution_count": 6,
   "metadata": {},
   "outputs": [],
   "source": [
    "hr_40 = df[['playerID','yearID','HR']].groupby(['playerID','yearID']).sum()"
   ]
  },
  {
   "cell_type": "code",
   "execution_count": 7,
   "metadata": {},
   "outputs": [
    {
     "data": {
      "text/plain": [
       "142"
      ]
     },
     "execution_count": 7,
     "metadata": {},
     "output_type": "execute_result"
    }
   ],
   "source": [
    "# If the question is looking for unique players\n",
    "hr_40[hr_40['HR']>=40].index.get_level_values('playerID').nunique()"
   ]
  },
  {
   "cell_type": "code",
   "execution_count": 8,
   "metadata": {},
   "outputs": [
    {
     "data": {
      "text/plain": [
       "330"
      ]
     },
     "execution_count": 8,
     "metadata": {},
     "output_type": "execute_result"
    }
   ],
   "source": [
    "# If it's not necessary to be unique players\n",
    "len(hr_40[hr_40['HR']>=40].index.get_level_values('playerID'))"
   ]
  },
  {
   "cell_type": "markdown",
   "metadata": {},
   "source": [
    "### 4)\tHow many players have hit 600 or more HRs for their career? (Dataframe with name and player first and last name only and amount of HRs)"
   ]
  },
  {
   "cell_type": "code",
   "execution_count": 10,
   "metadata": {},
   "outputs": [],
   "source": [
    "career_hr = df.groupby(['playerID'],)[['HR']].sum()\n",
    "career_hr600 = career_hr[career_hr['HR']>=600]"
   ]
  },
  {
   "cell_type": "code",
   "execution_count": 11,
   "metadata": {},
   "outputs": [
    {
     "data": {
      "text/html": [
       "<div>\n",
       "<style scoped>\n",
       "    .dataframe tbody tr th:only-of-type {\n",
       "        vertical-align: middle;\n",
       "    }\n",
       "\n",
       "    .dataframe tbody tr th {\n",
       "        vertical-align: top;\n",
       "    }\n",
       "\n",
       "    .dataframe thead th {\n",
       "        text-align: right;\n",
       "    }\n",
       "</style>\n",
       "<table border=\"1\" class=\"dataframe\">\n",
       "  <thead>\n",
       "    <tr style=\"text-align: right;\">\n",
       "      <th></th>\n",
       "      <th>nameFirst</th>\n",
       "      <th>nameLast</th>\n",
       "      <th>HR</th>\n",
       "    </tr>\n",
       "  </thead>\n",
       "  <tbody>\n",
       "    <tr>\n",
       "      <th>0</th>\n",
       "      <td>Hank</td>\n",
       "      <td>Aaron</td>\n",
       "      <td>755</td>\n",
       "    </tr>\n",
       "    <tr>\n",
       "      <th>1</th>\n",
       "      <td>Barry</td>\n",
       "      <td>Bonds</td>\n",
       "      <td>762</td>\n",
       "    </tr>\n",
       "    <tr>\n",
       "      <th>2</th>\n",
       "      <td>Ken</td>\n",
       "      <td>Griffey</td>\n",
       "      <td>630</td>\n",
       "    </tr>\n",
       "    <tr>\n",
       "      <th>3</th>\n",
       "      <td>Willie</td>\n",
       "      <td>Mays</td>\n",
       "      <td>660</td>\n",
       "    </tr>\n",
       "    <tr>\n",
       "      <th>4</th>\n",
       "      <td>Alex</td>\n",
       "      <td>Rodriguez</td>\n",
       "      <td>696</td>\n",
       "    </tr>\n",
       "    <tr>\n",
       "      <th>5</th>\n",
       "      <td>Babe</td>\n",
       "      <td>Ruth</td>\n",
       "      <td>714</td>\n",
       "    </tr>\n",
       "    <tr>\n",
       "      <th>6</th>\n",
       "      <td>Sammy</td>\n",
       "      <td>Sosa</td>\n",
       "      <td>609</td>\n",
       "    </tr>\n",
       "    <tr>\n",
       "      <th>7</th>\n",
       "      <td>Jim</td>\n",
       "      <td>Thome</td>\n",
       "      <td>612</td>\n",
       "    </tr>\n",
       "  </tbody>\n",
       "</table>\n",
       "</div>"
      ],
      "text/plain": [
       "  nameFirst   nameLast   HR\n",
       "0      Hank      Aaron  755\n",
       "1     Barry      Bonds  762\n",
       "2       Ken    Griffey  630\n",
       "3    Willie       Mays  660\n",
       "4      Alex  Rodriguez  696\n",
       "5      Babe       Ruth  714\n",
       "6     Sammy       Sosa  609\n",
       "7       Jim      Thome  612"
      ]
     },
     "execution_count": 11,
     "metadata": {},
     "output_type": "execute_result"
    }
   ],
   "source": [
    "career_hr600_new = pd.merge(career_hr600,name,on = 'playerID')[['nameFirst','nameLast','HR']]\n",
    "career_hr600_new"
   ]
  },
  {
   "cell_type": "markdown",
   "metadata": {},
   "source": [
    "### 5)\tHow many unique players have hit 40 2Bs or more, 10 3Bs or more, 200 Hits or more, and 30 HRs or more in one season? (Number Only)"
   ]
  },
  {
   "cell_type": "code",
   "execution_count": 12,
   "metadata": {},
   "outputs": [],
   "source": [
    "hits = df[['playerID','yearID','2B','3B','H','HR']].groupby(['playerID','yearID']).sum()"
   ]
  },
  {
   "cell_type": "code",
   "execution_count": 13,
   "metadata": {},
   "outputs": [
    {
     "data": {
      "text/plain": [
       "11"
      ]
     },
     "execution_count": 13,
     "metadata": {},
     "output_type": "execute_result"
    }
   ],
   "source": [
    "hits[(hits['2B']>=40) & (hits['3B']>=10) & (hits['H']>=200) & (hits['HR'] >=30)].index.get_level_values('playerID').nunique()"
   ]
  },
  {
   "cell_type": "markdown",
   "metadata": {},
   "source": [
    "### 6)\tHow many players seasons have had 100 or more SBs? (Dataframe, first name, last name, yearID, number of SBs, ordered from descending SBs)"
   ]
  },
  {
   "cell_type": "code",
   "execution_count": 14,
   "metadata": {},
   "outputs": [],
   "source": [
    "SBs = df[['playerID','yearID','SB']].groupby(['playerID','yearID']).sum()"
   ]
  },
  {
   "cell_type": "code",
   "execution_count": 15,
   "metadata": {},
   "outputs": [],
   "source": [
    "SBs.reset_index(level=['playerID','yearID'],inplace = True)"
   ]
  },
  {
   "cell_type": "code",
   "execution_count": 16,
   "metadata": {},
   "outputs": [
    {
     "data": {
      "text/html": [
       "<div>\n",
       "<style scoped>\n",
       "    .dataframe tbody tr th:only-of-type {\n",
       "        vertical-align: middle;\n",
       "    }\n",
       "\n",
       "    .dataframe tbody tr th {\n",
       "        vertical-align: top;\n",
       "    }\n",
       "\n",
       "    .dataframe thead th {\n",
       "        text-align: right;\n",
       "    }\n",
       "</style>\n",
       "<table border=\"1\" class=\"dataframe\">\n",
       "  <thead>\n",
       "    <tr style=\"text-align: right;\">\n",
       "      <th></th>\n",
       "      <th>nameFirst</th>\n",
       "      <th>nameLast</th>\n",
       "      <th>yearID</th>\n",
       "      <th>SB</th>\n",
       "    </tr>\n",
       "  </thead>\n",
       "  <tbody>\n",
       "    <tr>\n",
       "      <th>62362</th>\n",
       "      <td>Hugh</td>\n",
       "      <td>Nicol</td>\n",
       "      <td>1887</td>\n",
       "      <td>138.0</td>\n",
       "    </tr>\n",
       "    <tr>\n",
       "      <th>37059</th>\n",
       "      <td>Rickey</td>\n",
       "      <td>Henderson</td>\n",
       "      <td>1982</td>\n",
       "      <td>130.0</td>\n",
       "    </tr>\n",
       "    <tr>\n",
       "      <th>48268</th>\n",
       "      <td>Arlie</td>\n",
       "      <td>Latham</td>\n",
       "      <td>1887</td>\n",
       "      <td>129.0</td>\n",
       "    </tr>\n",
       "    <tr>\n",
       "      <th>9713</th>\n",
       "      <td>Lou</td>\n",
       "      <td>Brock</td>\n",
       "      <td>1974</td>\n",
       "      <td>118.0</td>\n",
       "    </tr>\n",
       "    <tr>\n",
       "      <th>16703</th>\n",
       "      <td>Charlie</td>\n",
       "      <td>Comiskey</td>\n",
       "      <td>1887</td>\n",
       "      <td>117.0</td>\n",
       "    </tr>\n",
       "    <tr>\n",
       "      <th>34649</th>\n",
       "      <td>Billy</td>\n",
       "      <td>Hamilton</td>\n",
       "      <td>1889</td>\n",
       "      <td>111.0</td>\n",
       "    </tr>\n",
       "    <tr>\n",
       "      <th>89859</th>\n",
       "      <td>John</td>\n",
       "      <td>Ward</td>\n",
       "      <td>1887</td>\n",
       "      <td>111.0</td>\n",
       "    </tr>\n",
       "    <tr>\n",
       "      <th>34651</th>\n",
       "      <td>Billy</td>\n",
       "      <td>Hamilton</td>\n",
       "      <td>1891</td>\n",
       "      <td>111.0</td>\n",
       "    </tr>\n",
       "    <tr>\n",
       "      <th>16351</th>\n",
       "      <td>Vince</td>\n",
       "      <td>Coleman</td>\n",
       "      <td>1985</td>\n",
       "      <td>110.0</td>\n",
       "    </tr>\n",
       "    <tr>\n",
       "      <th>16353</th>\n",
       "      <td>Vince</td>\n",
       "      <td>Coleman</td>\n",
       "      <td>1987</td>\n",
       "      <td>109.0</td>\n",
       "    </tr>\n",
       "    <tr>\n",
       "      <th>48269</th>\n",
       "      <td>Arlie</td>\n",
       "      <td>Latham</td>\n",
       "      <td>1888</td>\n",
       "      <td>109.0</td>\n",
       "    </tr>\n",
       "    <tr>\n",
       "      <th>37060</th>\n",
       "      <td>Rickey</td>\n",
       "      <td>Henderson</td>\n",
       "      <td>1983</td>\n",
       "      <td>108.0</td>\n",
       "    </tr>\n",
       "    <tr>\n",
       "      <th>16352</th>\n",
       "      <td>Vince</td>\n",
       "      <td>Coleman</td>\n",
       "      <td>1986</td>\n",
       "      <td>107.0</td>\n",
       "    </tr>\n",
       "    <tr>\n",
       "      <th>10364</th>\n",
       "      <td>Tom</td>\n",
       "      <td>Brown</td>\n",
       "      <td>1891</td>\n",
       "      <td>106.0</td>\n",
       "    </tr>\n",
       "    <tr>\n",
       "      <th>92606</th>\n",
       "      <td>Maury</td>\n",
       "      <td>Wills</td>\n",
       "      <td>1962</td>\n",
       "      <td>104.0</td>\n",
       "    </tr>\n",
       "    <tr>\n",
       "      <th>10331</th>\n",
       "      <td>Pete</td>\n",
       "      <td>Browning</td>\n",
       "      <td>1887</td>\n",
       "      <td>103.0</td>\n",
       "    </tr>\n",
       "    <tr>\n",
       "      <th>62363</th>\n",
       "      <td>Hugh</td>\n",
       "      <td>Nicol</td>\n",
       "      <td>1888</td>\n",
       "      <td>103.0</td>\n",
       "    </tr>\n",
       "    <tr>\n",
       "      <th>27187</th>\n",
       "      <td>Jim</td>\n",
       "      <td>Fogarty</td>\n",
       "      <td>1887</td>\n",
       "      <td>102.0</td>\n",
       "    </tr>\n",
       "    <tr>\n",
       "      <th>34650</th>\n",
       "      <td>Billy</td>\n",
       "      <td>Hamilton</td>\n",
       "      <td>1890</td>\n",
       "      <td>102.0</td>\n",
       "    </tr>\n",
       "    <tr>\n",
       "      <th>37057</th>\n",
       "      <td>Rickey</td>\n",
       "      <td>Henderson</td>\n",
       "      <td>1980</td>\n",
       "      <td>100.0</td>\n",
       "    </tr>\n",
       "  </tbody>\n",
       "</table>\n",
       "</div>"
      ],
      "text/plain": [
       "      nameFirst   nameLast  yearID     SB\n",
       "62362      Hugh      Nicol    1887  138.0\n",
       "37059    Rickey  Henderson    1982  130.0\n",
       "48268     Arlie     Latham    1887  129.0\n",
       "9713        Lou      Brock    1974  118.0\n",
       "16703   Charlie   Comiskey    1887  117.0\n",
       "34649     Billy   Hamilton    1889  111.0\n",
       "89859      John       Ward    1887  111.0\n",
       "34651     Billy   Hamilton    1891  111.0\n",
       "16351     Vince    Coleman    1985  110.0\n",
       "16353     Vince    Coleman    1987  109.0\n",
       "48269     Arlie     Latham    1888  109.0\n",
       "37060    Rickey  Henderson    1983  108.0\n",
       "16352     Vince    Coleman    1986  107.0\n",
       "10364       Tom      Brown    1891  106.0\n",
       "92606     Maury      Wills    1962  104.0\n",
       "10331      Pete   Browning    1887  103.0\n",
       "62363      Hugh      Nicol    1888  103.0\n",
       "27187       Jim    Fogarty    1887  102.0\n",
       "34650     Billy   Hamilton    1890  102.0\n",
       "37057    Rickey  Henderson    1980  100.0"
      ]
     },
     "execution_count": 16,
     "metadata": {},
     "output_type": "execute_result"
    }
   ],
   "source": [
    "SBs_100 = pd.merge(SBs,name,on='playerID')[['nameFirst','nameLast','yearID','SB']]\n",
    "new_SBs_100 = SBs_100[SBs_100['SB']>=100].sort_values('SB',ascending = False)\n",
    "new_SBs_100"
   ]
  },
  {
   "cell_type": "markdown",
   "metadata": {},
   "source": [
    "### 7)\tHow many players in the 1960s (yearID) have hit 200 or more HRs? (Dataframe, first name, last name, number of HRs, ordered descending by HR amt)"
   ]
  },
  {
   "cell_type": "code",
   "execution_count": 17,
   "metadata": {},
   "outputs": [],
   "source": [
    "hr60s = df[['HR','playerID']][(df['yearID']>=1960) & (df['yearID']<1970)]"
   ]
  },
  {
   "cell_type": "code",
   "execution_count": 18,
   "metadata": {},
   "outputs": [],
   "source": [
    "hr60s_new = hr60s.groupby('playerID').sum()"
   ]
  },
  {
   "cell_type": "code",
   "execution_count": 19,
   "metadata": {},
   "outputs": [
    {
     "data": {
      "text/html": [
       "<div>\n",
       "<style scoped>\n",
       "    .dataframe tbody tr th:only-of-type {\n",
       "        vertical-align: middle;\n",
       "    }\n",
       "\n",
       "    .dataframe tbody tr th {\n",
       "        vertical-align: top;\n",
       "    }\n",
       "\n",
       "    .dataframe thead th {\n",
       "        text-align: right;\n",
       "    }\n",
       "</style>\n",
       "<table border=\"1\" class=\"dataframe\">\n",
       "  <thead>\n",
       "    <tr style=\"text-align: right;\">\n",
       "      <th></th>\n",
       "      <th>nameFirst</th>\n",
       "      <th>nameLast</th>\n",
       "      <th>HR</th>\n",
       "    </tr>\n",
       "  </thead>\n",
       "  <tbody>\n",
       "    <tr>\n",
       "      <th>8</th>\n",
       "      <td>Harmon</td>\n",
       "      <td>Killebrew</td>\n",
       "      <td>393</td>\n",
       "    </tr>\n",
       "    <tr>\n",
       "      <th>0</th>\n",
       "      <td>Hank</td>\n",
       "      <td>Aaron</td>\n",
       "      <td>375</td>\n",
       "    </tr>\n",
       "    <tr>\n",
       "      <th>12</th>\n",
       "      <td>Willie</td>\n",
       "      <td>Mays</td>\n",
       "      <td>350</td>\n",
       "    </tr>\n",
       "    <tr>\n",
       "      <th>15</th>\n",
       "      <td>Frank</td>\n",
       "      <td>Robinson</td>\n",
       "      <td>316</td>\n",
       "    </tr>\n",
       "    <tr>\n",
       "      <th>13</th>\n",
       "      <td>Willie</td>\n",
       "      <td>McCovey</td>\n",
       "      <td>300</td>\n",
       "    </tr>\n",
       "    <tr>\n",
       "      <th>6</th>\n",
       "      <td>Frank</td>\n",
       "      <td>Howard</td>\n",
       "      <td>288</td>\n",
       "    </tr>\n",
       "    <tr>\n",
       "      <th>3</th>\n",
       "      <td>Norm</td>\n",
       "      <td>Cash</td>\n",
       "      <td>278</td>\n",
       "    </tr>\n",
       "    <tr>\n",
       "      <th>2</th>\n",
       "      <td>Ernie</td>\n",
       "      <td>Banks</td>\n",
       "      <td>269</td>\n",
       "    </tr>\n",
       "    <tr>\n",
       "      <th>9</th>\n",
       "      <td>Mickey</td>\n",
       "      <td>Mantle</td>\n",
       "      <td>256</td>\n",
       "    </tr>\n",
       "    <tr>\n",
       "      <th>4</th>\n",
       "      <td>Orlando</td>\n",
       "      <td>Cepeda</td>\n",
       "      <td>254</td>\n",
       "    </tr>\n",
       "    <tr>\n",
       "      <th>16</th>\n",
       "      <td>Ron</td>\n",
       "      <td>Santo</td>\n",
       "      <td>253</td>\n",
       "    </tr>\n",
       "    <tr>\n",
       "      <th>17</th>\n",
       "      <td>Billy</td>\n",
       "      <td>Williams</td>\n",
       "      <td>249</td>\n",
       "    </tr>\n",
       "    <tr>\n",
       "      <th>5</th>\n",
       "      <td>Rocky</td>\n",
       "      <td>Colavito</td>\n",
       "      <td>245</td>\n",
       "    </tr>\n",
       "    <tr>\n",
       "      <th>1</th>\n",
       "      <td>Bob</td>\n",
       "      <td>Allison</td>\n",
       "      <td>225</td>\n",
       "    </tr>\n",
       "    <tr>\n",
       "      <th>10</th>\n",
       "      <td>Roger</td>\n",
       "      <td>Maris</td>\n",
       "      <td>217</td>\n",
       "    </tr>\n",
       "    <tr>\n",
       "      <th>11</th>\n",
       "      <td>Eddie</td>\n",
       "      <td>Mathews</td>\n",
       "      <td>213</td>\n",
       "    </tr>\n",
       "    <tr>\n",
       "      <th>7</th>\n",
       "      <td>Al</td>\n",
       "      <td>Kaline</td>\n",
       "      <td>210</td>\n",
       "    </tr>\n",
       "    <tr>\n",
       "      <th>14</th>\n",
       "      <td>Boog</td>\n",
       "      <td>Powell</td>\n",
       "      <td>202</td>\n",
       "    </tr>\n",
       "    <tr>\n",
       "      <th>18</th>\n",
       "      <td>Carl</td>\n",
       "      <td>Yastrzemski</td>\n",
       "      <td>202</td>\n",
       "    </tr>\n",
       "  </tbody>\n",
       "</table>\n",
       "</div>"
      ],
      "text/plain": [
       "   nameFirst     nameLast   HR\n",
       "8     Harmon    Killebrew  393\n",
       "0       Hank        Aaron  375\n",
       "12    Willie         Mays  350\n",
       "15     Frank     Robinson  316\n",
       "13    Willie      McCovey  300\n",
       "6      Frank       Howard  288\n",
       "3       Norm         Cash  278\n",
       "2      Ernie        Banks  269\n",
       "9     Mickey       Mantle  256\n",
       "4    Orlando       Cepeda  254\n",
       "16       Ron        Santo  253\n",
       "17     Billy     Williams  249\n",
       "5      Rocky     Colavito  245\n",
       "1        Bob      Allison  225\n",
       "10     Roger        Maris  217\n",
       "11     Eddie      Mathews  213\n",
       "7         Al       Kaline  210\n",
       "14      Boog       Powell  202\n",
       "18      Carl  Yastrzemski  202"
      ]
     },
     "execution_count": 19,
     "metadata": {},
     "output_type": "execute_result"
    }
   ],
   "source": [
    "hr60s_new1 = hr60s_new[hr60s_new['HR']>=200]\n",
    "hr60s_new2 = pd.merge(hr60s_new1,name,on = 'playerID')[['nameFirst','nameLast','HR']].sort_values(by=['HR'],ascending = False)\n",
    "hr60s_new2"
   ]
  },
  {
   "cell_type": "markdown",
   "metadata": {},
   "source": [
    "### 8)\tWho has hit the most HRs in history? (Dataframe, first name, last name, HRs)"
   ]
  },
  {
   "cell_type": "code",
   "execution_count": 21,
   "metadata": {},
   "outputs": [
    {
     "data": {
      "text/html": [
       "<div>\n",
       "<style scoped>\n",
       "    .dataframe tbody tr th:only-of-type {\n",
       "        vertical-align: middle;\n",
       "    }\n",
       "\n",
       "    .dataframe tbody tr th {\n",
       "        vertical-align: top;\n",
       "    }\n",
       "\n",
       "    .dataframe thead th {\n",
       "        text-align: right;\n",
       "    }\n",
       "</style>\n",
       "<table border=\"1\" class=\"dataframe\">\n",
       "  <thead>\n",
       "    <tr style=\"text-align: right;\">\n",
       "      <th></th>\n",
       "      <th>HR</th>\n",
       "    </tr>\n",
       "    <tr>\n",
       "      <th>playerID</th>\n",
       "      <th></th>\n",
       "    </tr>\n",
       "  </thead>\n",
       "  <tbody>\n",
       "    <tr>\n",
       "      <th>bondsba01</th>\n",
       "      <td>762</td>\n",
       "    </tr>\n",
       "  </tbody>\n",
       "</table>\n",
       "</div>"
      ],
      "text/plain": [
       "            HR\n",
       "playerID      \n",
       "bondsba01  762"
      ]
     },
     "execution_count": 21,
     "metadata": {},
     "output_type": "execute_result"
    }
   ],
   "source": [
    "s = df[['HR','playerID']].groupby('playerID').sum().nlargest(1,'HR')\n",
    "s"
   ]
  },
  {
   "cell_type": "code",
   "execution_count": 22,
   "metadata": {},
   "outputs": [
    {
     "data": {
      "text/html": [
       "<div>\n",
       "<style scoped>\n",
       "    .dataframe tbody tr th:only-of-type {\n",
       "        vertical-align: middle;\n",
       "    }\n",
       "\n",
       "    .dataframe tbody tr th {\n",
       "        vertical-align: top;\n",
       "    }\n",
       "\n",
       "    .dataframe thead th {\n",
       "        text-align: right;\n",
       "    }\n",
       "</style>\n",
       "<table border=\"1\" class=\"dataframe\">\n",
       "  <thead>\n",
       "    <tr style=\"text-align: right;\">\n",
       "      <th></th>\n",
       "      <th>nameFirst</th>\n",
       "      <th>nameLast</th>\n",
       "      <th>HR</th>\n",
       "    </tr>\n",
       "  </thead>\n",
       "  <tbody>\n",
       "    <tr>\n",
       "      <th>0</th>\n",
       "      <td>Barry</td>\n",
       "      <td>Bonds</td>\n",
       "      <td>762</td>\n",
       "    </tr>\n",
       "  </tbody>\n",
       "</table>\n",
       "</div>"
      ],
      "text/plain": [
       "  nameFirst nameLast   HR\n",
       "0     Barry    Bonds  762"
      ]
     },
     "execution_count": 22,
     "metadata": {},
     "output_type": "execute_result"
    }
   ],
   "source": [
    "merged = pd.merge(s,name, on = 'playerID')[['nameFirst','nameLast','HR']]\n",
    "merged"
   ]
  },
  {
   "cell_type": "markdown",
   "metadata": {},
   "source": [
    "### 9)\tWho had the most hits (H) in the 1970s? (Dataframe)"
   ]
  },
  {
   "cell_type": "code",
   "execution_count": 23,
   "metadata": {},
   "outputs": [
    {
     "data": {
      "text/html": [
       "<div>\n",
       "<style scoped>\n",
       "    .dataframe tbody tr th:only-of-type {\n",
       "        vertical-align: middle;\n",
       "    }\n",
       "\n",
       "    .dataframe tbody tr th {\n",
       "        vertical-align: top;\n",
       "    }\n",
       "\n",
       "    .dataframe thead th {\n",
       "        text-align: right;\n",
       "    }\n",
       "</style>\n",
       "<table border=\"1\" class=\"dataframe\">\n",
       "  <thead>\n",
       "    <tr style=\"text-align: right;\">\n",
       "      <th></th>\n",
       "      <th>H</th>\n",
       "    </tr>\n",
       "    <tr>\n",
       "      <th>playerID</th>\n",
       "      <th></th>\n",
       "    </tr>\n",
       "  </thead>\n",
       "  <tbody>\n",
       "    <tr>\n",
       "      <th>rosepe01</th>\n",
       "      <td>2045</td>\n",
       "    </tr>\n",
       "  </tbody>\n",
       "</table>\n",
       "</div>"
      ],
      "text/plain": [
       "             H\n",
       "playerID      \n",
       "rosepe01  2045"
      ]
     },
     "execution_count": 23,
     "metadata": {},
     "output_type": "execute_result"
    }
   ],
   "source": [
    "hit70s = df[['playerID','H']][(df['yearID']>=1970) & (df['yearID']<1980)].groupby('playerID').sum().nlargest(1,'H')\n",
    "hit70s"
   ]
  },
  {
   "cell_type": "code",
   "execution_count": 24,
   "metadata": {},
   "outputs": [
    {
     "data": {
      "text/html": [
       "<div>\n",
       "<style scoped>\n",
       "    .dataframe tbody tr th:only-of-type {\n",
       "        vertical-align: middle;\n",
       "    }\n",
       "\n",
       "    .dataframe tbody tr th {\n",
       "        vertical-align: top;\n",
       "    }\n",
       "\n",
       "    .dataframe thead th {\n",
       "        text-align: right;\n",
       "    }\n",
       "</style>\n",
       "<table border=\"1\" class=\"dataframe\">\n",
       "  <thead>\n",
       "    <tr style=\"text-align: right;\">\n",
       "      <th></th>\n",
       "      <th>nameFirst</th>\n",
       "      <th>nameLast</th>\n",
       "      <th>H</th>\n",
       "    </tr>\n",
       "  </thead>\n",
       "  <tbody>\n",
       "    <tr>\n",
       "      <th>0</th>\n",
       "      <td>Pete</td>\n",
       "      <td>Rose</td>\n",
       "      <td>2045</td>\n",
       "    </tr>\n",
       "  </tbody>\n",
       "</table>\n",
       "</div>"
      ],
      "text/plain": [
       "  nameFirst nameLast     H\n",
       "0      Pete     Rose  2045"
      ]
     },
     "execution_count": 24,
     "metadata": {},
     "output_type": "execute_result"
    }
   ],
   "source": [
    "hit70s_new = pd.merge(hit70s,name, on = 'playerID')[['nameFirst','nameLast','H']]\n",
    "hit70s_new"
   ]
  },
  {
   "cell_type": "markdown",
   "metadata": {},
   "source": [
    "### 10)\tTop 5 highest OBP (on base percentage) with at least 500 PAs in 1977?  (Dataframe, first name, last name, OBP, ordered descending by OBP)"
   ]
  },
  {
   "cell_type": "code",
   "execution_count": 25,
   "metadata": {},
   "outputs": [
    {
     "data": {
      "text/html": [
       "<div>\n",
       "<style scoped>\n",
       "    .dataframe tbody tr th:only-of-type {\n",
       "        vertical-align: middle;\n",
       "    }\n",
       "\n",
       "    .dataframe tbody tr th {\n",
       "        vertical-align: top;\n",
       "    }\n",
       "\n",
       "    .dataframe thead th {\n",
       "        text-align: right;\n",
       "    }\n",
       "</style>\n",
       "<table border=\"1\" class=\"dataframe\">\n",
       "  <thead>\n",
       "    <tr style=\"text-align: right;\">\n",
       "      <th></th>\n",
       "      <th>nameFirst</th>\n",
       "      <th>nameLast</th>\n",
       "      <th>OBP</th>\n",
       "    </tr>\n",
       "  </thead>\n",
       "  <tbody>\n",
       "    <tr>\n",
       "      <th>54603</th>\n",
       "      <td>Rod</td>\n",
       "      <td>Carew</td>\n",
       "      <td>0.448773</td>\n",
       "    </tr>\n",
       "    <tr>\n",
       "      <th>55273</th>\n",
       "      <td>Ken</td>\n",
       "      <td>Singleton</td>\n",
       "      <td>0.437788</td>\n",
       "    </tr>\n",
       "    <tr>\n",
       "      <th>55280</th>\n",
       "      <td>Reggie</td>\n",
       "      <td>Smith</td>\n",
       "      <td>0.426910</td>\n",
       "    </tr>\n",
       "    <tr>\n",
       "      <th>54820</th>\n",
       "      <td>Mike</td>\n",
       "      <td>Hargrove</td>\n",
       "      <td>0.420312</td>\n",
       "    </tr>\n",
       "    <tr>\n",
       "      <th>55095</th>\n",
       "      <td>Joe</td>\n",
       "      <td>Morgan</td>\n",
       "      <td>0.417054</td>\n",
       "    </tr>\n",
       "  </tbody>\n",
       "</table>\n",
       "</div>"
      ],
      "text/plain": [
       "      nameFirst   nameLast       OBP\n",
       "54603       Rod      Carew  0.448773\n",
       "55273       Ken  Singleton  0.437788\n",
       "55280    Reggie      Smith  0.426910\n",
       "54820      Mike   Hargrove  0.420312\n",
       "55095       Joe     Morgan  0.417054"
      ]
     },
     "execution_count": 25,
     "metadata": {},
     "output_type": "execute_result"
    }
   ],
   "source": [
    "obp = new_df[['nameFirst','nameLast','OBP']][(new_df['yearID']==1977) & (new_df['PA']>=500)].nlargest(5,'OBP')\n",
    "obp"
   ]
  },
  {
   "cell_type": "markdown",
   "metadata": {},
   "source": [
    "### 11)\tTop 8 highest averages in 2013 with at least 300 PAs? (Dataframe, first name, last name, average, descending by average)"
   ]
  },
  {
   "cell_type": "code",
   "execution_count": 26,
   "metadata": {},
   "outputs": [],
   "source": [
    "ba = new_df[['nameFirst','nameLast','BA']][(new_df['yearID']==2013) & (new_df['PA']>=300)].nlargest(8,'BA')"
   ]
  },
  {
   "cell_type": "code",
   "execution_count": 27,
   "metadata": {},
   "outputs": [
    {
     "data": {
      "text/html": [
       "<div>\n",
       "<style scoped>\n",
       "    .dataframe tbody tr th:only-of-type {\n",
       "        vertical-align: middle;\n",
       "    }\n",
       "\n",
       "    .dataframe tbody tr th {\n",
       "        vertical-align: top;\n",
       "    }\n",
       "\n",
       "    .dataframe thead th {\n",
       "        text-align: right;\n",
       "    }\n",
       "</style>\n",
       "<table border=\"1\" class=\"dataframe\">\n",
       "  <thead>\n",
       "    <tr style=\"text-align: right;\">\n",
       "      <th></th>\n",
       "      <th>nameFirst</th>\n",
       "      <th>nameLast</th>\n",
       "      <th>BA</th>\n",
       "    </tr>\n",
       "  </thead>\n",
       "  <tbody>\n",
       "    <tr>\n",
       "      <th>97188</th>\n",
       "      <td>Miguel</td>\n",
       "      <td>Cabrera</td>\n",
       "      <td>0.347748</td>\n",
       "    </tr>\n",
       "    <tr>\n",
       "      <th>98062</th>\n",
       "      <td>Hanley</td>\n",
       "      <td>Ramirez</td>\n",
       "      <td>0.345395</td>\n",
       "    </tr>\n",
       "    <tr>\n",
       "      <th>97300</th>\n",
       "      <td>Michael</td>\n",
       "      <td>Cuddyer</td>\n",
       "      <td>0.331288</td>\n",
       "    </tr>\n",
       "    <tr>\n",
       "      <th>97825</th>\n",
       "      <td>Joe</td>\n",
       "      <td>Mauer</td>\n",
       "      <td>0.323596</td>\n",
       "    </tr>\n",
       "    <tr>\n",
       "      <th>98293</th>\n",
       "      <td>Mike</td>\n",
       "      <td>Trout</td>\n",
       "      <td>0.322581</td>\n",
       "    </tr>\n",
       "    <tr>\n",
       "      <th>97651</th>\n",
       "      <td>Chris</td>\n",
       "      <td>Johnson</td>\n",
       "      <td>0.321012</td>\n",
       "    </tr>\n",
       "    <tr>\n",
       "      <th>97437</th>\n",
       "      <td>Freddie</td>\n",
       "      <td>Freeman</td>\n",
       "      <td>0.319419</td>\n",
       "    </tr>\n",
       "    <tr>\n",
       "      <th>98043</th>\n",
       "      <td>Yasiel</td>\n",
       "      <td>Puig</td>\n",
       "      <td>0.319372</td>\n",
       "    </tr>\n",
       "  </tbody>\n",
       "</table>\n",
       "</div>"
      ],
      "text/plain": [
       "      nameFirst nameLast        BA\n",
       "97188    Miguel  Cabrera  0.347748\n",
       "98062    Hanley  Ramirez  0.345395\n",
       "97300   Michael  Cuddyer  0.331288\n",
       "97825       Joe    Mauer  0.323596\n",
       "98293      Mike    Trout  0.322581\n",
       "97651     Chris  Johnson  0.321012\n",
       "97437   Freddie  Freeman  0.319419\n",
       "98043    Yasiel     Puig  0.319372"
      ]
     },
     "execution_count": 27,
     "metadata": {},
     "output_type": "execute_result"
    }
   ],
   "source": [
    "ba"
   ]
  },
  {
   "cell_type": "markdown",
   "metadata": {},
   "source": [
    "### 12)\tLeaders in hits from 1940 up to and including 1949. (Dataframe, first name, last name, number of hits)"
   ]
  },
  {
   "cell_type": "code",
   "execution_count": 28,
   "metadata": {},
   "outputs": [],
   "source": [
    "hit_40 = df[['playerID','H']][(df['yearID']>=1940) & (df['yearID']<=1949)].groupby('playerID').sum().nlargest(5,'H')"
   ]
  },
  {
   "cell_type": "code",
   "execution_count": 29,
   "metadata": {},
   "outputs": [],
   "source": [
    "hit_40s = pd.merge(hit_40, name, on = 'playerID')[['nameFirst','nameLast','H']]"
   ]
  },
  {
   "cell_type": "code",
   "execution_count": 30,
   "metadata": {},
   "outputs": [
    {
     "data": {
      "text/html": [
       "<div>\n",
       "<style scoped>\n",
       "    .dataframe tbody tr th:only-of-type {\n",
       "        vertical-align: middle;\n",
       "    }\n",
       "\n",
       "    .dataframe tbody tr th {\n",
       "        vertical-align: top;\n",
       "    }\n",
       "\n",
       "    .dataframe thead th {\n",
       "        text-align: right;\n",
       "    }\n",
       "</style>\n",
       "<table border=\"1\" class=\"dataframe\">\n",
       "  <thead>\n",
       "    <tr style=\"text-align: right;\">\n",
       "      <th></th>\n",
       "      <th>nameFirst</th>\n",
       "      <th>nameLast</th>\n",
       "      <th>H</th>\n",
       "    </tr>\n",
       "  </thead>\n",
       "  <tbody>\n",
       "    <tr>\n",
       "      <th>0</th>\n",
       "      <td>Lou</td>\n",
       "      <td>Boudreau</td>\n",
       "      <td>1578</td>\n",
       "    </tr>\n",
       "    <tr>\n",
       "      <th>1</th>\n",
       "      <td>Bob</td>\n",
       "      <td>Elliott</td>\n",
       "      <td>1563</td>\n",
       "    </tr>\n",
       "    <tr>\n",
       "      <th>2</th>\n",
       "      <td>Dixie</td>\n",
       "      <td>Walker</td>\n",
       "      <td>1512</td>\n",
       "    </tr>\n",
       "    <tr>\n",
       "      <th>3</th>\n",
       "      <td>Stan</td>\n",
       "      <td>Musial</td>\n",
       "      <td>1432</td>\n",
       "    </tr>\n",
       "    <tr>\n",
       "      <th>4</th>\n",
       "      <td>Bobby</td>\n",
       "      <td>Doerr</td>\n",
       "      <td>1407</td>\n",
       "    </tr>\n",
       "  </tbody>\n",
       "</table>\n",
       "</div>"
      ],
      "text/plain": [
       "  nameFirst  nameLast     H\n",
       "0       Lou  Boudreau  1578\n",
       "1       Bob   Elliott  1563\n",
       "2     Dixie    Walker  1512\n",
       "3      Stan    Musial  1432\n",
       "4     Bobby     Doerr  1407"
      ]
     },
     "execution_count": 30,
     "metadata": {},
     "output_type": "execute_result"
    }
   ],
   "source": [
    "hit_40s"
   ]
  },
  {
   "cell_type": "markdown",
   "metadata": {},
   "source": [
    "### 13)\tWho led MLB with the most hits the most times?  And how many times?  (Dataframe, Number of hits)"
   ]
  },
  {
   "cell_type": "code",
   "execution_count": 54,
   "metadata": {},
   "outputs": [],
   "source": [
    "MLB = df[['playerID','yearID','H']].groupby(['playerID','yearID']).sum()"
   ]
  },
  {
   "cell_type": "code",
   "execution_count": 58,
   "metadata": {},
   "outputs": [
    {
     "data": {
      "text/html": [
       "<div>\n",
       "<style scoped>\n",
       "    .dataframe tbody tr th:only-of-type {\n",
       "        vertical-align: middle;\n",
       "    }\n",
       "\n",
       "    .dataframe tbody tr th {\n",
       "        vertical-align: top;\n",
       "    }\n",
       "\n",
       "    .dataframe thead th {\n",
       "        text-align: right;\n",
       "    }\n",
       "</style>\n",
       "<table border=\"1\" class=\"dataframe\">\n",
       "  <thead>\n",
       "    <tr style=\"text-align: right;\">\n",
       "      <th></th>\n",
       "      <th>yearID</th>\n",
       "      <th>H</th>\n",
       "    </tr>\n",
       "    <tr>\n",
       "      <th>playerID</th>\n",
       "      <th></th>\n",
       "      <th></th>\n",
       "    </tr>\n",
       "  </thead>\n",
       "  <tbody>\n",
       "    <tr>\n",
       "      <th>cobbty01</th>\n",
       "      <td>7</td>\n",
       "      <td>7</td>\n",
       "    </tr>\n",
       "  </tbody>\n",
       "</table>\n",
       "</div>"
      ],
      "text/plain": [
       "          yearID  H\n",
       "playerID           \n",
       "cobbty01       7  7"
      ]
     },
     "execution_count": 58,
     "metadata": {},
     "output_type": "execute_result"
    }
   ],
   "source": [
    "MLB_H = MLB.reset_index().sort_values(['yearID','H'], ascending = False).groupby('yearID').head(1)\n",
    "MLB_H1 = MLB_H.groupby('playerID').count().sort_values('yearID', ascending = False).head(1)\n",
    "MLB_H1"
   ]
  },
  {
   "cell_type": "code",
   "execution_count": 64,
   "metadata": {},
   "outputs": [
    {
     "data": {
      "text/html": [
       "<div>\n",
       "<style scoped>\n",
       "    .dataframe tbody tr th:only-of-type {\n",
       "        vertical-align: middle;\n",
       "    }\n",
       "\n",
       "    .dataframe tbody tr th {\n",
       "        vertical-align: top;\n",
       "    }\n",
       "\n",
       "    .dataframe thead th {\n",
       "        text-align: right;\n",
       "    }\n",
       "</style>\n",
       "<table border=\"1\" class=\"dataframe\">\n",
       "  <thead>\n",
       "    <tr style=\"text-align: right;\">\n",
       "      <th></th>\n",
       "      <th>nameFirst</th>\n",
       "      <th>nameLast</th>\n",
       "      <th>yearID</th>\n",
       "      <th>H</th>\n",
       "    </tr>\n",
       "  </thead>\n",
       "  <tbody>\n",
       "    <tr>\n",
       "      <th>0</th>\n",
       "      <td>Ty</td>\n",
       "      <td>Cobb</td>\n",
       "      <td>1919</td>\n",
       "      <td>191</td>\n",
       "    </tr>\n",
       "    <tr>\n",
       "      <th>1</th>\n",
       "      <td>Ty</td>\n",
       "      <td>Cobb</td>\n",
       "      <td>1917</td>\n",
       "      <td>225</td>\n",
       "    </tr>\n",
       "    <tr>\n",
       "      <th>2</th>\n",
       "      <td>Ty</td>\n",
       "      <td>Cobb</td>\n",
       "      <td>1915</td>\n",
       "      <td>208</td>\n",
       "    </tr>\n",
       "    <tr>\n",
       "      <th>3</th>\n",
       "      <td>Ty</td>\n",
       "      <td>Cobb</td>\n",
       "      <td>1912</td>\n",
       "      <td>226</td>\n",
       "    </tr>\n",
       "    <tr>\n",
       "      <th>4</th>\n",
       "      <td>Ty</td>\n",
       "      <td>Cobb</td>\n",
       "      <td>1911</td>\n",
       "      <td>248</td>\n",
       "    </tr>\n",
       "    <tr>\n",
       "      <th>5</th>\n",
       "      <td>Ty</td>\n",
       "      <td>Cobb</td>\n",
       "      <td>1909</td>\n",
       "      <td>216</td>\n",
       "    </tr>\n",
       "    <tr>\n",
       "      <th>6</th>\n",
       "      <td>Ty</td>\n",
       "      <td>Cobb</td>\n",
       "      <td>1907</td>\n",
       "      <td>212</td>\n",
       "    </tr>\n",
       "  </tbody>\n",
       "</table>\n",
       "</div>"
      ],
      "text/plain": [
       "  nameFirst nameLast  yearID    H\n",
       "0        Ty     Cobb    1919  191\n",
       "1        Ty     Cobb    1917  225\n",
       "2        Ty     Cobb    1915  208\n",
       "3        Ty     Cobb    1912  226\n",
       "4        Ty     Cobb    1911  248\n",
       "5        Ty     Cobb    1909  216\n",
       "6        Ty     Cobb    1907  212"
      ]
     },
     "execution_count": 64,
     "metadata": {},
     "output_type": "execute_result"
    }
   ],
   "source": [
    "MLB_H2 = MLB_H[MLB_H['playerID']=='cobbty01']\n",
    "MLB_H3 = pd.merge(MLB_H2,name,on = 'playerID')[['nameFirst','nameLast','yearID','H']]\n",
    "MLB_H3"
   ]
  },
  {
   "cell_type": "markdown",
   "metadata": {},
   "source": [
    "### 14)\t Which players have played the most games for their careers?  Top 5 first name, last name, descending by games played presented as a dataframe"
   ]
  },
  {
   "cell_type": "code",
   "execution_count": 94,
   "metadata": {},
   "outputs": [
    {
     "data": {
      "text/html": [
       "<div>\n",
       "<style scoped>\n",
       "    .dataframe tbody tr th:only-of-type {\n",
       "        vertical-align: middle;\n",
       "    }\n",
       "\n",
       "    .dataframe tbody tr th {\n",
       "        vertical-align: top;\n",
       "    }\n",
       "\n",
       "    .dataframe thead th {\n",
       "        text-align: right;\n",
       "    }\n",
       "</style>\n",
       "<table border=\"1\" class=\"dataframe\">\n",
       "  <thead>\n",
       "    <tr style=\"text-align: right;\">\n",
       "      <th></th>\n",
       "      <th>nameFirst</th>\n",
       "      <th>nameLast</th>\n",
       "      <th>G</th>\n",
       "    </tr>\n",
       "  </thead>\n",
       "  <tbody>\n",
       "    <tr>\n",
       "      <th>0</th>\n",
       "      <td>Pete</td>\n",
       "      <td>Rose</td>\n",
       "      <td>3562</td>\n",
       "    </tr>\n",
       "    <tr>\n",
       "      <th>1</th>\n",
       "      <td>Carl</td>\n",
       "      <td>Yastrzemski</td>\n",
       "      <td>3308</td>\n",
       "    </tr>\n",
       "    <tr>\n",
       "      <th>2</th>\n",
       "      <td>Hank</td>\n",
       "      <td>Aaron</td>\n",
       "      <td>3298</td>\n",
       "    </tr>\n",
       "    <tr>\n",
       "      <th>3</th>\n",
       "      <td>Rickey</td>\n",
       "      <td>Henderson</td>\n",
       "      <td>3081</td>\n",
       "    </tr>\n",
       "    <tr>\n",
       "      <th>4</th>\n",
       "      <td>Ty</td>\n",
       "      <td>Cobb</td>\n",
       "      <td>3035</td>\n",
       "    </tr>\n",
       "  </tbody>\n",
       "</table>\n",
       "</div>"
      ],
      "text/plain": [
       "  nameFirst     nameLast     G\n",
       "0      Pete         Rose  3562\n",
       "1      Carl  Yastrzemski  3308\n",
       "2      Hank        Aaron  3298\n",
       "3    Rickey    Henderson  3081\n",
       "4        Ty         Cobb  3035"
      ]
     },
     "execution_count": 94,
     "metadata": {},
     "output_type": "execute_result"
    }
   ],
   "source": [
    "most_game = df[['playerID','G']].groupby('playerID').sum().nlargest(5,'G')\n",
    "most_game1 = pd.merge(most_game,name,on = 'playerID')[['nameFirst','nameLast','G']]\n",
    "most_game1"
   ]
  },
  {
   "cell_type": "markdown",
   "metadata": {},
   "source": [
    "### 15)\tHow many players have had more 3000 or more hits for their careers while also hitting 500 or more HRs?  Just a number is okay here"
   ]
  },
  {
   "cell_type": "code",
   "execution_count": 108,
   "metadata": {},
   "outputs": [
    {
     "data": {
      "text/plain": [
       "5"
      ]
     },
     "execution_count": 108,
     "metadata": {},
     "output_type": "execute_result"
    }
   ],
   "source": [
    "h_hr = df[['playerID','H','HR']].groupby('playerID').sum()\n",
    "h_hr[(h_hr['H']>=3000) & (h_hr['HR']>=500)].shape[0]"
   ]
  },
  {
   "cell_type": "markdown",
   "metadata": {},
   "source": [
    "### 16) How many HRs were hit during the entire 1988 season?  Just a number is okay here"
   ]
  },
  {
   "cell_type": "code",
   "execution_count": 111,
   "metadata": {},
   "outputs": [
    {
     "data": {
      "text/plain": [
       "HR    3180\n",
       "dtype: int64"
      ]
     },
     "execution_count": 111,
     "metadata": {},
     "output_type": "execute_result"
    }
   ],
   "source": [
    "df[['HR']][df['yearID']==1988].sum()"
   ]
  },
  {
   "cell_type": "markdown",
   "metadata": {},
   "source": [
    "### 17) Please filter out and show me the top 3 average seasons by Wade Boggs during his career in seasons in which he had at least 500 or more ABs.  Dataframe, first name, last name, average, descending by average"
   ]
  },
  {
   "cell_type": "code",
   "execution_count": 116,
   "metadata": {},
   "outputs": [
    {
     "data": {
      "text/html": [
       "<div>\n",
       "<style scoped>\n",
       "    .dataframe tbody tr th:only-of-type {\n",
       "        vertical-align: middle;\n",
       "    }\n",
       "\n",
       "    .dataframe tbody tr th {\n",
       "        vertical-align: top;\n",
       "    }\n",
       "\n",
       "    .dataframe thead th {\n",
       "        text-align: right;\n",
       "    }\n",
       "</style>\n",
       "<table border=\"1\" class=\"dataframe\">\n",
       "  <thead>\n",
       "    <tr style=\"text-align: right;\">\n",
       "      <th></th>\n",
       "      <th>nameFirst</th>\n",
       "      <th>nameLast</th>\n",
       "      <th>BA</th>\n",
       "    </tr>\n",
       "  </thead>\n",
       "  <tbody>\n",
       "    <tr>\n",
       "      <th>62316</th>\n",
       "      <td>Wade</td>\n",
       "      <td>Boggs</td>\n",
       "      <td>0.367534</td>\n",
       "    </tr>\n",
       "    <tr>\n",
       "      <th>65391</th>\n",
       "      <td>Wade</td>\n",
       "      <td>Boggs</td>\n",
       "      <td>0.366438</td>\n",
       "    </tr>\n",
       "    <tr>\n",
       "      <th>64335</th>\n",
       "      <td>Wade</td>\n",
       "      <td>Boggs</td>\n",
       "      <td>0.362976</td>\n",
       "    </tr>\n",
       "  </tbody>\n",
       "</table>\n",
       "</div>"
      ],
      "text/plain": [
       "      nameFirst nameLast        BA\n",
       "62316      Wade    Boggs  0.367534\n",
       "65391      Wade    Boggs  0.366438\n",
       "64335      Wade    Boggs  0.362976"
      ]
     },
     "execution_count": 116,
     "metadata": {},
     "output_type": "execute_result"
    }
   ],
   "source": [
    "new_df[['nameFirst','nameLast','BA']][(new_df['nameFirst']=='Wade') & (new_df['nameLast']=='Boggs') & (new_df['AB']>=500)].nlargest(3,'BA')"
   ]
  },
  {
   "cell_type": "markdown",
   "metadata": {},
   "source": [
    "### 18)\t Please filter out the top 10 OBPs for the 1995 season with 400 or more PAs, sorted by OBP descending.  Dataframe with first name, last name, OBP"
   ]
  },
  {
   "cell_type": "code",
   "execution_count": 119,
   "metadata": {},
   "outputs": [
    {
     "data": {
      "text/html": [
       "<div>\n",
       "<style scoped>\n",
       "    .dataframe tbody tr th:only-of-type {\n",
       "        vertical-align: middle;\n",
       "    }\n",
       "\n",
       "    .dataframe tbody tr th {\n",
       "        vertical-align: top;\n",
       "    }\n",
       "\n",
       "    .dataframe thead th {\n",
       "        text-align: right;\n",
       "    }\n",
       "</style>\n",
       "<table border=\"1\" class=\"dataframe\">\n",
       "  <thead>\n",
       "    <tr style=\"text-align: right;\">\n",
       "      <th></th>\n",
       "      <th>nameFirst</th>\n",
       "      <th>nameLast</th>\n",
       "      <th>OBP</th>\n",
       "    </tr>\n",
       "  </thead>\n",
       "  <tbody>\n",
       "    <tr>\n",
       "      <th>73578</th>\n",
       "      <td>Edgar</td>\n",
       "      <td>Martinez</td>\n",
       "      <td>0.478873</td>\n",
       "    </tr>\n",
       "    <tr>\n",
       "      <th>73996</th>\n",
       "      <td>Frank</td>\n",
       "      <td>Thomas</td>\n",
       "      <td>0.454405</td>\n",
       "    </tr>\n",
       "    <tr>\n",
       "      <th>73611</th>\n",
       "      <td>Mark</td>\n",
       "      <td>McGwire</td>\n",
       "      <td>0.440758</td>\n",
       "    </tr>\n",
       "    <tr>\n",
       "      <th>73999</th>\n",
       "      <td>Jim</td>\n",
       "      <td>Thome</td>\n",
       "      <td>0.438061</td>\n",
       "    </tr>\n",
       "    <tr>\n",
       "      <th>73002</th>\n",
       "      <td>Barry</td>\n",
       "      <td>Bonds</td>\n",
       "      <td>0.431496</td>\n",
       "    </tr>\n",
       "    <tr>\n",
       "      <th>73875</th>\n",
       "      <td>Tim</td>\n",
       "      <td>Salmon</td>\n",
       "      <td>0.429467</td>\n",
       "    </tr>\n",
       "    <tr>\n",
       "      <th>73145</th>\n",
       "      <td>Chili</td>\n",
       "      <td>Davis</td>\n",
       "      <td>0.429119</td>\n",
       "    </tr>\n",
       "    <tr>\n",
       "      <th>73560</th>\n",
       "      <td>Dave</td>\n",
       "      <td>Magadan</td>\n",
       "      <td>0.427553</td>\n",
       "    </tr>\n",
       "    <tr>\n",
       "      <th>73495</th>\n",
       "      <td>Chuck</td>\n",
       "      <td>Knoblauch</td>\n",
       "      <td>0.424483</td>\n",
       "    </tr>\n",
       "    <tr>\n",
       "      <th>73671</th>\n",
       "      <td>Tim</td>\n",
       "      <td>Naehring</td>\n",
       "      <td>0.414729</td>\n",
       "    </tr>\n",
       "  </tbody>\n",
       "</table>\n",
       "</div>"
      ],
      "text/plain": [
       "      nameFirst   nameLast       OBP\n",
       "73578     Edgar   Martinez  0.478873\n",
       "73996     Frank     Thomas  0.454405\n",
       "73611      Mark    McGwire  0.440758\n",
       "73999       Jim      Thome  0.438061\n",
       "73002     Barry      Bonds  0.431496\n",
       "73875       Tim     Salmon  0.429467\n",
       "73145     Chili      Davis  0.429119\n",
       "73560      Dave    Magadan  0.427553\n",
       "73495     Chuck  Knoblauch  0.424483\n",
       "73671       Tim   Naehring  0.414729"
      ]
     },
     "execution_count": 119,
     "metadata": {},
     "output_type": "execute_result"
    }
   ],
   "source": [
    "top10_obp = new_df[['nameFirst','nameLast','OBP']][(new_df['yearID']==1995) & (new_df['PA']>=400)].nlargest(10,'OBP')\n",
    "top10_obp"
   ]
  },
  {
   "cell_type": "markdown",
   "metadata": {},
   "source": [
    "### 19)\tWho had the most 3Bs (in total) in 1922, 1925, 1926, and 1928?  I would like a dataframe with first name, last name, number of 3Bs"
   ]
  },
  {
   "cell_type": "code",
   "execution_count": 130,
   "metadata": {},
   "outputs": [],
   "source": [
    "most_3b = df[['playerID','3B']][(df['yearID']==1922) | (df['yearID']==1925) | (df['yearID']==1926) | (df['yearID']==1928)].groupby('playerID').sum().nlargest(1,'3B')"
   ]
  },
  {
   "cell_type": "code",
   "execution_count": 133,
   "metadata": {},
   "outputs": [
    {
     "data": {
      "text/html": [
       "<div>\n",
       "<style scoped>\n",
       "    .dataframe tbody tr th:only-of-type {\n",
       "        vertical-align: middle;\n",
       "    }\n",
       "\n",
       "    .dataframe tbody tr th {\n",
       "        vertical-align: top;\n",
       "    }\n",
       "\n",
       "    .dataframe thead th {\n",
       "        text-align: right;\n",
       "    }\n",
       "</style>\n",
       "<table border=\"1\" class=\"dataframe\">\n",
       "  <thead>\n",
       "    <tr style=\"text-align: right;\">\n",
       "      <th></th>\n",
       "      <th>nameFirst</th>\n",
       "      <th>nameLast</th>\n",
       "      <th>3B</th>\n",
       "    </tr>\n",
       "  </thead>\n",
       "  <tbody>\n",
       "    <tr>\n",
       "      <th>0</th>\n",
       "      <td>Curt</td>\n",
       "      <td>Walker</td>\n",
       "      <td>59</td>\n",
       "    </tr>\n",
       "  </tbody>\n",
       "</table>\n",
       "</div>"
      ],
      "text/plain": [
       "  nameFirst nameLast  3B\n",
       "0      Curt   Walker  59"
      ]
     },
     "execution_count": 133,
     "metadata": {},
     "output_type": "execute_result"
    }
   ],
   "source": [
    "new_most_3b = pd.merge(most_3b,name,on = 'playerID')[['nameFirst','nameLast','3B']]\n",
    "new_most_3b"
   ]
  },
  {
   "cell_type": "markdown",
   "metadata": {},
   "source": [
    "### 20)\tHow many unique players have hit 30 or more HRs in season while also stealing (SB) 30 more or bases?  A number is okay here"
   ]
  },
  {
   "cell_type": "code",
   "execution_count": 11,
   "metadata": {},
   "outputs": [],
   "source": [
    "hr_sb = df[['playerID','yearID','HR','SB']].groupby(['playerID','yearID']).sum()"
   ]
  },
  {
   "cell_type": "code",
   "execution_count": 55,
   "metadata": {},
   "outputs": [
    {
     "data": {
      "text/plain": [
       "38"
      ]
     },
     "execution_count": 55,
     "metadata": {},
     "output_type": "execute_result"
    }
   ],
   "source": [
    "# Extract one column \"playerID\" from multi-index then count the uniques\n",
    "hr_sb[(hr_sb['HR']>=30) & (hr_sb['SB']>=30)].index.get_level_values('playerID').nunique()"
   ]
  },
  {
   "cell_type": "markdown",
   "metadata": {},
   "source": [
    "### 21)\t Who had the highest OBP is 1986 with 400 or more ABs? (Dataframe first name, last name, OBP)"
   ]
  },
  {
   "cell_type": "code",
   "execution_count": 64,
   "metadata": {},
   "outputs": [],
   "source": [
    "data_1986 = new_df[['playerID','H','BB','HBP','AB','SF']][new_df['yearID']==1986].groupby('playerID').sum()"
   ]
  },
  {
   "cell_type": "code",
   "execution_count": 66,
   "metadata": {},
   "outputs": [],
   "source": [
    "data_1986['OBP'] = (data_1986['H'] + data_1986['BB'] + data_1986['HBP']) / (data_1986['AB'] + data_1986['BB'] + data_1986['HBP'] + data_1986['SF'])"
   ]
  },
  {
   "cell_type": "code",
   "execution_count": 71,
   "metadata": {},
   "outputs": [
    {
     "data": {
      "text/html": [
       "<div>\n",
       "<style scoped>\n",
       "    .dataframe tbody tr th:only-of-type {\n",
       "        vertical-align: middle;\n",
       "    }\n",
       "\n",
       "    .dataframe tbody tr th {\n",
       "        vertical-align: top;\n",
       "    }\n",
       "\n",
       "    .dataframe thead th {\n",
       "        text-align: right;\n",
       "    }\n",
       "</style>\n",
       "<table border=\"1\" class=\"dataframe\">\n",
       "  <thead>\n",
       "    <tr style=\"text-align: right;\">\n",
       "      <th></th>\n",
       "      <th>nameFirst</th>\n",
       "      <th>nameLast</th>\n",
       "      <th>OBP</th>\n",
       "    </tr>\n",
       "  </thead>\n",
       "  <tbody>\n",
       "    <tr>\n",
       "      <th>0</th>\n",
       "      <td>Wade</td>\n",
       "      <td>Boggs</td>\n",
       "      <td>0.45283</td>\n",
       "    </tr>\n",
       "  </tbody>\n",
       "</table>\n",
       "</div>"
      ],
      "text/plain": [
       "  nameFirst nameLast      OBP\n",
       "0      Wade    Boggs  0.45283"
      ]
     },
     "execution_count": 71,
     "metadata": {},
     "output_type": "execute_result"
    }
   ],
   "source": [
    "obp_1986 = data_1986[['OBP']][data_1986['AB']>=400].nlargest(1,'OBP')\n",
    "new_obp_1986 = pd.merge(obp_1986,name,on = 'playerID')[['nameFirst','nameLast','OBP']]\n",
    "new_obp_1986"
   ]
  },
  {
   "cell_type": "markdown",
   "metadata": {},
   "source": [
    "### 22)\tSame question but for 1997 and only in the NL (check league ID)? (Dataframe, first name, last name OBP)"
   ]
  },
  {
   "cell_type": "code",
   "execution_count": 74,
   "metadata": {},
   "outputs": [],
   "source": [
    "data_1997 = new_df[['playerID','H','BB','HBP','AB','SF']][(new_df['yearID']==1997) & (new_df['lgID']=='NL')].groupby('playerID').sum()\n",
    "data_1997['OBP'] = (data_1997['H'] + data_1997['BB'] + data_1997['HBP']) / (data_1997['AB'] + data_1997['BB'] + data_1997['HBP'] + data_1997['SF'])"
   ]
  },
  {
   "cell_type": "code",
   "execution_count": 75,
   "metadata": {},
   "outputs": [
    {
     "data": {
      "text/html": [
       "<div>\n",
       "<style scoped>\n",
       "    .dataframe tbody tr th:only-of-type {\n",
       "        vertical-align: middle;\n",
       "    }\n",
       "\n",
       "    .dataframe tbody tr th {\n",
       "        vertical-align: top;\n",
       "    }\n",
       "\n",
       "    .dataframe thead th {\n",
       "        text-align: right;\n",
       "    }\n",
       "</style>\n",
       "<table border=\"1\" class=\"dataframe\">\n",
       "  <thead>\n",
       "    <tr style=\"text-align: right;\">\n",
       "      <th></th>\n",
       "      <th>nameFirst</th>\n",
       "      <th>nameLast</th>\n",
       "      <th>OBP</th>\n",
       "    </tr>\n",
       "  </thead>\n",
       "  <tbody>\n",
       "    <tr>\n",
       "      <th>0</th>\n",
       "      <td>Larry</td>\n",
       "      <td>Walker</td>\n",
       "      <td>0.451807</td>\n",
       "    </tr>\n",
       "  </tbody>\n",
       "</table>\n",
       "</div>"
      ],
      "text/plain": [
       "  nameFirst nameLast       OBP\n",
       "0     Larry   Walker  0.451807"
      ]
     },
     "execution_count": 75,
     "metadata": {},
     "output_type": "execute_result"
    }
   ],
   "source": [
    "obp_1997 = data_1997[['OBP']][data_1997['AB']>=400].nlargest(1,'OBP')\n",
    "new_obp_1997 = pd.merge(obp_1997,name,on = 'playerID')[['nameFirst','nameLast','OBP']]\n",
    "new_obp_1997"
   ]
  },
  {
   "cell_type": "markdown",
   "metadata": {},
   "source": [
    "### 23)\tWho had more than the league average HRs (for players with 500 or more ABs) in 2012 (filter out all players with less 500 ABs)? (Dataframe first name, last name, HR descending)"
   ]
  },
  {
   "cell_type": "code",
   "execution_count": 97,
   "metadata": {},
   "outputs": [],
   "source": [
    "data_2012 = df[['playerID','HR','AB']][df['yearID']==2012].groupby('playerID').sum()"
   ]
  },
  {
   "cell_type": "code",
   "execution_count": 101,
   "metadata": {},
   "outputs": [
    {
     "data": {
      "text/html": [
       "<div>\n",
       "<style scoped>\n",
       "    .dataframe tbody tr th:only-of-type {\n",
       "        vertical-align: middle;\n",
       "    }\n",
       "\n",
       "    .dataframe tbody tr th {\n",
       "        vertical-align: top;\n",
       "    }\n",
       "\n",
       "    .dataframe thead th {\n",
       "        text-align: right;\n",
       "    }\n",
       "</style>\n",
       "<table border=\"1\" class=\"dataframe\">\n",
       "  <thead>\n",
       "    <tr style=\"text-align: right;\">\n",
       "      <th></th>\n",
       "      <th>nameFirst</th>\n",
       "      <th>nameLast</th>\n",
       "      <th>HR</th>\n",
       "    </tr>\n",
       "  </thead>\n",
       "  <tbody>\n",
       "    <tr>\n",
       "      <th>6</th>\n",
       "      <td>Miguel</td>\n",
       "      <td>Cabrera</td>\n",
       "      <td>44</td>\n",
       "    </tr>\n",
       "    <tr>\n",
       "      <th>18</th>\n",
       "      <td>Josh</td>\n",
       "      <td>Hamilton</td>\n",
       "      <td>43</td>\n",
       "    </tr>\n",
       "    <tr>\n",
       "      <th>17</th>\n",
       "      <td>Curtis</td>\n",
       "      <td>Granderson</td>\n",
       "      <td>43</td>\n",
       "    </tr>\n",
       "    <tr>\n",
       "      <th>13</th>\n",
       "      <td>Edwin</td>\n",
       "      <td>Encarnacion</td>\n",
       "      <td>42</td>\n",
       "    </tr>\n",
       "    <tr>\n",
       "      <th>3</th>\n",
       "      <td>Ryan</td>\n",
       "      <td>Braun</td>\n",
       "      <td>41</td>\n",
       "    </tr>\n",
       "    <tr>\n",
       "      <th>12</th>\n",
       "      <td>Adam</td>\n",
       "      <td>Dunn</td>\n",
       "      <td>41</td>\n",
       "    </tr>\n",
       "    <tr>\n",
       "      <th>1</th>\n",
       "      <td>Adrian</td>\n",
       "      <td>Beltre</td>\n",
       "      <td>36</td>\n",
       "    </tr>\n",
       "    <tr>\n",
       "      <th>49</th>\n",
       "      <td>Josh</td>\n",
       "      <td>Willingham</td>\n",
       "      <td>35</td>\n",
       "    </tr>\n",
       "    <tr>\n",
       "      <th>4</th>\n",
       "      <td>Jay</td>\n",
       "      <td>Bruce</td>\n",
       "      <td>34</td>\n",
       "    </tr>\n",
       "    <tr>\n",
       "      <th>29</th>\n",
       "      <td>Adam</td>\n",
       "      <td>LaRoche</td>\n",
       "      <td>33</td>\n",
       "    </tr>\n",
       "    <tr>\n",
       "      <th>9</th>\n",
       "      <td>Chris</td>\n",
       "      <td>Davis</td>\n",
       "      <td>33</td>\n",
       "    </tr>\n",
       "    <tr>\n",
       "      <th>7</th>\n",
       "      <td>Robinson</td>\n",
       "      <td>Cano</td>\n",
       "      <td>33</td>\n",
       "    </tr>\n",
       "    <tr>\n",
       "      <th>10</th>\n",
       "      <td>Ike</td>\n",
       "      <td>Davis</td>\n",
       "      <td>32</td>\n",
       "    </tr>\n",
       "    <tr>\n",
       "      <th>44</th>\n",
       "      <td>Mark</td>\n",
       "      <td>Trumbo</td>\n",
       "      <td>32</td>\n",
       "    </tr>\n",
       "    <tr>\n",
       "      <th>41</th>\n",
       "      <td>Alfonso</td>\n",
       "      <td>Soriano</td>\n",
       "      <td>32</td>\n",
       "    </tr>\n",
       "    <tr>\n",
       "      <th>38</th>\n",
       "      <td>Josh</td>\n",
       "      <td>Reddick</td>\n",
       "      <td>32</td>\n",
       "    </tr>\n",
       "    <tr>\n",
       "      <th>2</th>\n",
       "      <td>Carlos</td>\n",
       "      <td>Beltran</td>\n",
       "      <td>32</td>\n",
       "    </tr>\n",
       "    <tr>\n",
       "      <th>26</th>\n",
       "      <td>Adam</td>\n",
       "      <td>Jones</td>\n",
       "      <td>32</td>\n",
       "    </tr>\n",
       "    <tr>\n",
       "      <th>30</th>\n",
       "      <td>Andrew</td>\n",
       "      <td>McCutchen</td>\n",
       "      <td>31</td>\n",
       "    </tr>\n",
       "    <tr>\n",
       "      <th>22</th>\n",
       "      <td>Chase</td>\n",
       "      <td>Headley</td>\n",
       "      <td>31</td>\n",
       "    </tr>\n",
       "    <tr>\n",
       "      <th>34</th>\n",
       "      <td>Albert</td>\n",
       "      <td>Pujols</td>\n",
       "      <td>30</td>\n",
       "    </tr>\n",
       "    <tr>\n",
       "      <th>28</th>\n",
       "      <td>Jason</td>\n",
       "      <td>Kubel</td>\n",
       "      <td>30</td>\n",
       "    </tr>\n",
       "    <tr>\n",
       "      <th>43</th>\n",
       "      <td>Mike</td>\n",
       "      <td>Trout</td>\n",
       "      <td>30</td>\n",
       "    </tr>\n",
       "    <tr>\n",
       "      <th>0</th>\n",
       "      <td>Pedro</td>\n",
       "      <td>Alvarez</td>\n",
       "      <td>30</td>\n",
       "    </tr>\n",
       "    <tr>\n",
       "      <th>21</th>\n",
       "      <td>Corey</td>\n",
       "      <td>Hart</td>\n",
       "      <td>30</td>\n",
       "    </tr>\n",
       "    <tr>\n",
       "      <th>14</th>\n",
       "      <td>Prince</td>\n",
       "      <td>Fielder</td>\n",
       "      <td>30</td>\n",
       "    </tr>\n",
       "    <tr>\n",
       "      <th>5</th>\n",
       "      <td>Billy</td>\n",
       "      <td>Butler</td>\n",
       "      <td>29</td>\n",
       "    </tr>\n",
       "    <tr>\n",
       "      <th>45</th>\n",
       "      <td>Melvin</td>\n",
       "      <td>Upton</td>\n",
       "      <td>28</td>\n",
       "    </tr>\n",
       "    <tr>\n",
       "      <th>25</th>\n",
       "      <td>Matt</td>\n",
       "      <td>Holliday</td>\n",
       "      <td>27</td>\n",
       "    </tr>\n",
       "    <tr>\n",
       "      <th>23</th>\n",
       "      <td>Jason</td>\n",
       "      <td>Heyward</td>\n",
       "      <td>27</td>\n",
       "    </tr>\n",
       "    <tr>\n",
       "      <th>35</th>\n",
       "      <td>Aramis</td>\n",
       "      <td>Ramirez</td>\n",
       "      <td>27</td>\n",
       "    </tr>\n",
       "    <tr>\n",
       "      <th>24</th>\n",
       "      <td>Aaron</td>\n",
       "      <td>Hill</td>\n",
       "      <td>26</td>\n",
       "    </tr>\n",
       "    <tr>\n",
       "      <th>27</th>\n",
       "      <td>Paul</td>\n",
       "      <td>Konerko</td>\n",
       "      <td>26</td>\n",
       "    </tr>\n",
       "    <tr>\n",
       "      <th>46</th>\n",
       "      <td>Dayan</td>\n",
       "      <td>Viciedo</td>\n",
       "      <td>25</td>\n",
       "    </tr>\n",
       "    <tr>\n",
       "      <th>11</th>\n",
       "      <td>Ian</td>\n",
       "      <td>Desmond</td>\n",
       "      <td>25</td>\n",
       "    </tr>\n",
       "    <tr>\n",
       "      <th>39</th>\n",
       "      <td>Alex</td>\n",
       "      <td>Rios</td>\n",
       "      <td>25</td>\n",
       "    </tr>\n",
       "    <tr>\n",
       "      <th>51</th>\n",
       "      <td>Ryan</td>\n",
       "      <td>Zimmerman</td>\n",
       "      <td>25</td>\n",
       "    </tr>\n",
       "    <tr>\n",
       "      <th>36</th>\n",
       "      <td>Hanley</td>\n",
       "      <td>Ramirez</td>\n",
       "      <td>24</td>\n",
       "    </tr>\n",
       "    <tr>\n",
       "      <th>33</th>\n",
       "      <td>Buster</td>\n",
       "      <td>Posey</td>\n",
       "      <td>24</td>\n",
       "    </tr>\n",
       "    <tr>\n",
       "      <th>42</th>\n",
       "      <td>Nick</td>\n",
       "      <td>Swisher</td>\n",
       "      <td>24</td>\n",
       "    </tr>\n",
       "    <tr>\n",
       "      <th>32</th>\n",
       "      <td>Hunter</td>\n",
       "      <td>Pence</td>\n",
       "      <td>24</td>\n",
       "    </tr>\n",
       "    <tr>\n",
       "      <th>8</th>\n",
       "      <td>Nelson</td>\n",
       "      <td>Cruz</td>\n",
       "      <td>24</td>\n",
       "    </tr>\n",
       "    <tr>\n",
       "      <th>37</th>\n",
       "      <td>Colby</td>\n",
       "      <td>Rasmus</td>\n",
       "      <td>23</td>\n",
       "    </tr>\n",
       "    <tr>\n",
       "      <th>40</th>\n",
       "      <td>Jimmy</td>\n",
       "      <td>Rollins</td>\n",
       "      <td>23</td>\n",
       "    </tr>\n",
       "    <tr>\n",
       "      <th>48</th>\n",
       "      <td>Matt</td>\n",
       "      <td>Wieters</td>\n",
       "      <td>23</td>\n",
       "    </tr>\n",
       "    <tr>\n",
       "      <th>15</th>\n",
       "      <td>Freddie</td>\n",
       "      <td>Freeman</td>\n",
       "      <td>23</td>\n",
       "    </tr>\n",
       "    <tr>\n",
       "      <th>16</th>\n",
       "      <td>Carlos</td>\n",
       "      <td>Gonzalez</td>\n",
       "      <td>22</td>\n",
       "    </tr>\n",
       "    <tr>\n",
       "      <th>31</th>\n",
       "      <td>Yadier</td>\n",
       "      <td>Molina</td>\n",
       "      <td>22</td>\n",
       "    </tr>\n",
       "    <tr>\n",
       "      <th>19</th>\n",
       "      <td>J. J.</td>\n",
       "      <td>Hardy</td>\n",
       "      <td>22</td>\n",
       "    </tr>\n",
       "    <tr>\n",
       "      <th>20</th>\n",
       "      <td>Bryce</td>\n",
       "      <td>Harper</td>\n",
       "      <td>22</td>\n",
       "    </tr>\n",
       "    <tr>\n",
       "      <th>47</th>\n",
       "      <td>Rickie</td>\n",
       "      <td>Weeks</td>\n",
       "      <td>21</td>\n",
       "    </tr>\n",
       "    <tr>\n",
       "      <th>50</th>\n",
       "      <td>David</td>\n",
       "      <td>Wright</td>\n",
       "      <td>21</td>\n",
       "    </tr>\n",
       "  </tbody>\n",
       "</table>\n",
       "</div>"
      ],
      "text/plain": [
       "   nameFirst     nameLast  HR\n",
       "6     Miguel      Cabrera  44\n",
       "18      Josh     Hamilton  43\n",
       "17    Curtis   Granderson  43\n",
       "13     Edwin  Encarnacion  42\n",
       "3       Ryan        Braun  41\n",
       "12      Adam         Dunn  41\n",
       "1     Adrian       Beltre  36\n",
       "49      Josh   Willingham  35\n",
       "4        Jay        Bruce  34\n",
       "29      Adam      LaRoche  33\n",
       "9      Chris        Davis  33\n",
       "7   Robinson         Cano  33\n",
       "10       Ike        Davis  32\n",
       "44      Mark       Trumbo  32\n",
       "41   Alfonso      Soriano  32\n",
       "38      Josh      Reddick  32\n",
       "2     Carlos      Beltran  32\n",
       "26      Adam        Jones  32\n",
       "30    Andrew    McCutchen  31\n",
       "22     Chase      Headley  31\n",
       "34    Albert       Pujols  30\n",
       "28     Jason        Kubel  30\n",
       "43      Mike        Trout  30\n",
       "0      Pedro      Alvarez  30\n",
       "21     Corey         Hart  30\n",
       "14    Prince      Fielder  30\n",
       "5      Billy       Butler  29\n",
       "45    Melvin        Upton  28\n",
       "25      Matt     Holliday  27\n",
       "23     Jason      Heyward  27\n",
       "35    Aramis      Ramirez  27\n",
       "24     Aaron         Hill  26\n",
       "27      Paul      Konerko  26\n",
       "46     Dayan      Viciedo  25\n",
       "11       Ian      Desmond  25\n",
       "39      Alex         Rios  25\n",
       "51      Ryan    Zimmerman  25\n",
       "36    Hanley      Ramirez  24\n",
       "33    Buster        Posey  24\n",
       "42      Nick      Swisher  24\n",
       "32    Hunter        Pence  24\n",
       "8     Nelson         Cruz  24\n",
       "37     Colby       Rasmus  23\n",
       "40     Jimmy      Rollins  23\n",
       "48      Matt      Wieters  23\n",
       "15   Freddie      Freeman  23\n",
       "16    Carlos     Gonzalez  22\n",
       "31    Yadier       Molina  22\n",
       "19     J. J.        Hardy  22\n",
       "20     Bryce       Harper  22\n",
       "47    Rickie        Weeks  21\n",
       "50     David       Wright  21"
      ]
     },
     "execution_count": 101,
     "metadata": {},
     "output_type": "execute_result"
    }
   ],
   "source": [
    "new_data_2012 = data_2012[data_2012['AB'] >= 500]\n",
    "hr_2012 = new_data_2012[new_data_2012['HR'] > new_data_2012['HR'].mean()]\n",
    "new_hr_2012 = pd.merge(hr_2012,name,on = 'playerID')[['nameFirst','nameLast','HR']].sort_values(by=['HR'],ascending = False)\n",
    "new_hr_2012"
   ]
  },
  {
   "cell_type": "markdown",
   "metadata": {},
   "source": [
    "### 24)\t Who is the youngest player to hit 50 or more HRs in a single season? (Dataframe, first name, last name, HRs, season)"
   ]
  },
  {
   "cell_type": "code",
   "execution_count": 226,
   "metadata": {},
   "outputs": [],
   "source": [
    "df_1 = df[df['birthYear']!=0]"
   ]
  },
  {
   "cell_type": "code",
   "execution_count": 231,
   "metadata": {},
   "outputs": [],
   "source": [
    "young = df_1[['playerID','yearID','HR','birthYear']].groupby(['playerID','yearID','birthYear']).sum().reset_index()"
   ]
  },
  {
   "cell_type": "code",
   "execution_count": 232,
   "metadata": {},
   "outputs": [],
   "source": [
    "young['age'] = young['yearID'] - young['birthYear']"
   ]
  },
  {
   "cell_type": "code",
   "execution_count": 239,
   "metadata": {},
   "outputs": [
    {
     "data": {
      "text/html": [
       "<div>\n",
       "<style scoped>\n",
       "    .dataframe tbody tr th:only-of-type {\n",
       "        vertical-align: middle;\n",
       "    }\n",
       "\n",
       "    .dataframe tbody tr th {\n",
       "        vertical-align: top;\n",
       "    }\n",
       "\n",
       "    .dataframe thead th {\n",
       "        text-align: right;\n",
       "    }\n",
       "</style>\n",
       "<table border=\"1\" class=\"dataframe\">\n",
       "  <thead>\n",
       "    <tr style=\"text-align: right;\">\n",
       "      <th></th>\n",
       "      <th>playerID</th>\n",
       "      <th>yearID</th>\n",
       "      <th>birthYear</th>\n",
       "      <th>HR</th>\n",
       "      <th>age</th>\n",
       "    </tr>\n",
       "  </thead>\n",
       "  <tbody>\n",
       "    <tr>\n",
       "      <th>26241</th>\n",
       "      <td>fieldpr01</td>\n",
       "      <td>2007</td>\n",
       "      <td>1984</td>\n",
       "      <td>50</td>\n",
       "      <td>23</td>\n",
       "    </tr>\n",
       "  </tbody>\n",
       "</table>\n",
       "</div>"
      ],
      "text/plain": [
       "        playerID  yearID  birthYear  HR  age\n",
       "26241  fieldpr01    2007       1984  50   23"
      ]
     },
     "execution_count": 239,
     "metadata": {},
     "output_type": "execute_result"
    }
   ],
   "source": [
    "young1 = young[young['HR']>=50].sort_values('age',ascending = True).head(1)\n",
    "young1"
   ]
  },
  {
   "cell_type": "code",
   "execution_count": 240,
   "metadata": {},
   "outputs": [
    {
     "data": {
      "text/html": [
       "<div>\n",
       "<style scoped>\n",
       "    .dataframe tbody tr th:only-of-type {\n",
       "        vertical-align: middle;\n",
       "    }\n",
       "\n",
       "    .dataframe tbody tr th {\n",
       "        vertical-align: top;\n",
       "    }\n",
       "\n",
       "    .dataframe thead th {\n",
       "        text-align: right;\n",
       "    }\n",
       "</style>\n",
       "<table border=\"1\" class=\"dataframe\">\n",
       "  <thead>\n",
       "    <tr style=\"text-align: right;\">\n",
       "      <th></th>\n",
       "      <th>nameFirst</th>\n",
       "      <th>nameLast</th>\n",
       "      <th>HR</th>\n",
       "      <th>yearID</th>\n",
       "    </tr>\n",
       "  </thead>\n",
       "  <tbody>\n",
       "    <tr>\n",
       "      <th>0</th>\n",
       "      <td>Prince</td>\n",
       "      <td>Fielder</td>\n",
       "      <td>50</td>\n",
       "      <td>2007</td>\n",
       "    </tr>\n",
       "  </tbody>\n",
       "</table>\n",
       "</div>"
      ],
      "text/plain": [
       "  nameFirst nameLast  HR  yearID\n",
       "0    Prince  Fielder  50    2007"
      ]
     },
     "execution_count": 240,
     "metadata": {},
     "output_type": "execute_result"
    }
   ],
   "source": [
    "young2 = pd.merge(young1,name,on = 'playerID')[['nameFirst','nameLast','HR','yearID']]\n",
    "young2"
   ]
  },
  {
   "cell_type": "markdown",
   "metadata": {},
   "source": [
    "### 25)\tWho are the five youngest players to hit 300 or more HRs for their career? (Dataframe, first name, last name, season they eclipsed more than 300 HRs)"
   ]
  },
  {
   "cell_type": "code",
   "execution_count": 150,
   "metadata": {},
   "outputs": [],
   "source": [
    "df25 = df[['playerID','yearID','HR']].groupby(['playerID','yearID']).sum().reset_index()"
   ]
  },
  {
   "cell_type": "code",
   "execution_count": 164,
   "metadata": {},
   "outputs": [],
   "source": [
    "bir = df[['playerID','birthYear','nameFirst','nameLast']]"
   ]
  },
  {
   "cell_type": "code",
   "execution_count": 165,
   "metadata": {},
   "outputs": [
    {
     "name": "stderr",
     "output_type": "stream",
     "text": [
      "C:\\Users\\Jerry Yang\\Anaconda3\\lib\\site-packages\\ipykernel_launcher.py:1: SettingWithCopyWarning: \n",
      "A value is trying to be set on a copy of a slice from a DataFrame\n",
      "\n",
      "See the caveats in the documentation: http://pandas.pydata.org/pandas-docs/stable/indexing.html#indexing-view-versus-copy\n",
      "  \"\"\"Entry point for launching an IPython kernel.\n"
     ]
    }
   ],
   "source": [
    "bir.drop_duplicates(subset=['playerID'],inplace = True)"
   ]
  },
  {
   "cell_type": "code",
   "execution_count": 166,
   "metadata": {},
   "outputs": [],
   "source": [
    "df25_1 = pd.merge(df25,bir,on = 'playerID')"
   ]
  },
  {
   "cell_type": "code",
   "execution_count": 167,
   "metadata": {},
   "outputs": [],
   "source": [
    "df25_1['age'] = df25_1['yearID'] - df25_1['birthYear']"
   ]
  },
  {
   "cell_type": "code",
   "execution_count": 168,
   "metadata": {},
   "outputs": [],
   "source": [
    "bo = df25_1.groupby('playerID').cumsum().HR >= 300\n",
    "df25_1['bo'] = bo\n",
    "df25_2 = df25_1[df25_1['bo']==True].drop_duplicates(['playerID','bo'])"
   ]
  },
  {
   "cell_type": "code",
   "execution_count": 176,
   "metadata": {},
   "outputs": [
    {
     "data": {
      "text/html": [
       "<div>\n",
       "<style scoped>\n",
       "    .dataframe tbody tr th:only-of-type {\n",
       "        vertical-align: middle;\n",
       "    }\n",
       "\n",
       "    .dataframe tbody tr th {\n",
       "        vertical-align: top;\n",
       "    }\n",
       "\n",
       "    .dataframe thead th {\n",
       "        text-align: right;\n",
       "    }\n",
       "</style>\n",
       "<table border=\"1\" class=\"dataframe\">\n",
       "  <thead>\n",
       "    <tr style=\"text-align: right;\">\n",
       "      <th></th>\n",
       "      <th>nameFirst</th>\n",
       "      <th>nameLast</th>\n",
       "      <th>yearID</th>\n",
       "    </tr>\n",
       "  </thead>\n",
       "  <tbody>\n",
       "    <tr>\n",
       "      <th>27852</th>\n",
       "      <td>Jimmie</td>\n",
       "      <td>Foxx</td>\n",
       "      <td>1935</td>\n",
       "    </tr>\n",
       "    <tr>\n",
       "      <th>64767</th>\n",
       "      <td>Mel</td>\n",
       "      <td>Ott</td>\n",
       "      <td>1937</td>\n",
       "    </tr>\n",
       "    <tr>\n",
       "      <th>69369</th>\n",
       "      <td>Albert</td>\n",
       "      <td>Pujols</td>\n",
       "      <td>2008</td>\n",
       "    </tr>\n",
       "    <tr>\n",
       "      <th>43074</th>\n",
       "      <td>Andruw</td>\n",
       "      <td>Jones</td>\n",
       "      <td>2005</td>\n",
       "    </tr>\n",
       "    <tr>\n",
       "      <th>73216</th>\n",
       "      <td>Alex</td>\n",
       "      <td>Rodriguez</td>\n",
       "      <td>2003</td>\n",
       "    </tr>\n",
       "  </tbody>\n",
       "</table>\n",
       "</div>"
      ],
      "text/plain": [
       "      nameFirst   nameLast  yearID\n",
       "27852    Jimmie       Foxx    1935\n",
       "64767       Mel        Ott    1937\n",
       "69369    Albert     Pujols    2008\n",
       "43074    Andruw      Jones    2005\n",
       "73216      Alex  Rodriguez    2003"
      ]
     },
     "execution_count": 176,
     "metadata": {},
     "output_type": "execute_result"
    }
   ],
   "source": [
    "df25_3 = df25_2.sort_values('age', ascending = True)[['nameFirst','nameLast','yearID']].head()\n",
    "df25_3"
   ]
  },
  {
   "cell_type": "markdown",
   "metadata": {},
   "source": [
    "### BONUS1:  Graph total HRs per season using bar graph"
   ]
  },
  {
   "cell_type": "code",
   "execution_count": 177,
   "metadata": {},
   "outputs": [],
   "source": [
    "import matplotlib.pyplot as plt"
   ]
  },
  {
   "cell_type": "code",
   "execution_count": 178,
   "metadata": {},
   "outputs": [],
   "source": [
    "%matplotlib inline"
   ]
  },
  {
   "cell_type": "code",
   "execution_count": 186,
   "metadata": {},
   "outputs": [],
   "source": [
    "b1 = df[['yearID','HR']].groupby('yearID').sum().reset_index()"
   ]
  },
  {
   "cell_type": "code",
   "execution_count": 184,
   "metadata": {},
   "outputs": [
    {
     "data": {
      "text/plain": [
       "<BarContainer object of 146 artists>"
      ]
     },
     "execution_count": 184,
     "metadata": {},
     "output_type": "execute_result"
    },
    {
     "data": {
      "image/png": "[encoded data removed]",
      "text/plain": [
       "<Figure size 432x288 with 1 Axes>"
      ]
     },
     "metadata": {},
     "output_type": "display_data"
    }
   ],
   "source": [
    "plt.bar(b1['yearID'],b1['HR'])"
   ]
  },
  {
   "cell_type": "markdown",
   "metadata": {},
   "source": [
    "### BONUS2: Using a line graph please graph the average HRs per AB (think about this) per season"
   ]
  },
  {
   "cell_type": "code",
   "execution_count": 205,
   "metadata": {},
   "outputs": [],
   "source": [
    "B2 = df[['playerID','yearID','HR','AB']].groupby(['playerID','yearID']).sum().reset_index()"
   ]
  },
  {
   "cell_type": "code",
   "execution_count": 206,
   "metadata": {},
   "outputs": [],
   "source": [
    "B2['avg_hr_ab'] = B2['HR'] / B2['AB']"
   ]
  },
  {
   "cell_type": "code",
   "execution_count": 207,
   "metadata": {},
   "outputs": [],
   "source": [
    "B2_1 = B2[['yearID','avg_hr_ab']].groupby('yearID').mean().reset_index()"
   ]
  },
  {
   "cell_type": "code",
   "execution_count": 208,
   "metadata": {},
   "outputs": [
    {
     "data": {
      "text/plain": [
       "Text(0.5,1,'Average HRs per AB per season')"
      ]
     },
     "execution_count": 208,
     "metadata": {},
     "output_type": "execute_result"
    },
    {
     "data": {
      "image/png": "[encoded data removed]",
      "text/plain": [
       "<Figure size 432x288 with 1 Axes>"
      ]
     },
     "metadata": {},
     "output_type": "display_data"
    }
   ],
   "source": [
    "plt.plot(B2_1['yearID'], B2_1['avg_hr_ab'], 'r')\n",
    "plt.xlabel('Season')\n",
    "plt.ylabel('Average HRs per AB')\n",
    "plt.title('Average HRs per AB per season')"
   ]
  }
 ],
 "metadata": {
  "kernelspec": {
   "display_name": "Python 3",
   "language": "python",
   "name": "python3"
  },
  "language_info": {
   "codemirror_mode": {
    "name": "ipython",
    "version": 3
   },
   "file_extension": ".py",
   "mimetype": "text/x-python",
   "name": "python",
   "nbconvert_exporter": "python",
   "pygments_lexer": "ipython3",
   "version": "3.6.5"
  }
 },
 "nbformat": 4,
 "nbformat_minor": 2
}
